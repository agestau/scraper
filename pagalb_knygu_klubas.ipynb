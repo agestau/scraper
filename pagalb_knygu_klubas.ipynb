{
 "cells": [
  {
   "cell_type": "code",
   "execution_count": null,
   "metadata": {},
   "outputs": [],
   "source": [
    "# resp = requests.get(\"https://www.knyguklubas.lt/vasaros-romanas\")\n",
    "# content = BeautifulSoup(resp.content, \"html.parser\")\n",
    "\n",
    "# book_title = content.find(\"h1\", class_=\"page-title\").find(\"span\", class_=\"base\").text\n",
    "# author = content.find(\"div\", class_=\"product-info-main\").find(\"p\", class_=\"product-item-author\").text\n",
    "# #main_image = content.find(\"div\", class_=\"fotorama__stage\").get(\"href\")\n",
    "# about = content.find(\"div\", class_=\"product-description\").find(\"p\").text\n",
    "# price = content.find(\"div\", class_=\"price-box price-final_price\").find(\"span\", class_=\"price\").text\n",
    "\n",
    "# additional_info = content.find(\"div\", class_=\"product-more-details\").find(\"p\").text\n",
    "# keyword = 'Puslapių skaičius:'\n",
    "# before_keyword, keyword, after_keyword = additional_info.partition(keyword)\n",
    "# pages = after_keyword.split(',')[0]\n",
    "\n",
    "# #print(about)"
   ]
  },
  {
   "cell_type": "code",
   "execution_count": null,
   "metadata": {},
   "outputs": [],
   "source": [
    "# def get_knygos_info(url: str) -> Dict:\n",
    "#     resp = requests.get(url)\n",
    "#     soup = BeautifulSoup(resp.content, \"html.parser\")\n",
    "\n",
    "#     book_title = content.find(\"h1\", class_=\"page-title\").find(\"span\", class_=\"base\").text\n",
    "#     author = content.find(\"div\", class_=\"product-info-main\").find(\"p\", class_=\"product-item-author\").text\n",
    "#     #main_image = content.find(\"div\", class_=\"fotorama__stage\").get(\"href\")\n",
    "#     about = content.find(\"div\", class_=\"product-description\").find(\"p\").text\n",
    "#     price = content.find(\"div\", class_=\"price-box price-final_price\").find(\"span\", class_=\"price\").text\n",
    "\n",
    "#     additional_info = content.find(\"div\", class_=\"product-more-details\").find(\"p\").text\n",
    "#     keyword = 'Puslapių skaičius:'\n",
    "#     before_keyword, keyword, after_keyword = additional_info.partition(keyword)\n",
    "#     pages = after_keyword.split(',')[0]\n",
    "\n",
    "#     return {\n",
    "#         \"title\": book_title,\n",
    "#         #\"image_url\": main_image,\n",
    "#         \"author\": author,\n",
    "#         \"about\": about,\n",
    "#         \"price\": price,\n",
    "#         \"pages\": pages\n",
    "#     }"
   ]
  },
  {
   "cell_type": "code",
   "execution_count": null,
   "metadata": {},
   "outputs": [],
   "source": [
    "#############################################################################################"
   ]
  },
  {
   "cell_type": "code",
   "execution_count": null,
   "metadata": {},
   "outputs": [],
   "source": [
    "# import requests\n",
    "# from typing import List, Dict, Optional\n",
    "# import pandas as pd\n",
    "\n",
    "# from bs4 import BeautifulSoup\n",
    "\n",
    "# from selenium import webdriver\n",
    "# from selenium.common.exceptions import TimeoutException\n",
    "# from selenium.webdriver.support.ui import WebDriverWait\n",
    "# from selenium.webdriver.support import expected_conditions as EC\n",
    "# from selenium.webdriver.common.by import By\n",
    "# from selenium.webdriver.common.keys import Keys\n",
    "# from selenium.webdriver.chrome.options import Options\n",
    "# from selenium.webdriver.chrome.service import Service\n",
    "\n",
    "# options = Options()\n",
    "# options.headless = True\n",
    "# options.add_argument(\"--window-size=1920,1200\")\n",
    "\n",
    "# s=Service('D:/Downloads/chromedriver.exe')\n",
    "# driver = webdriver.Chrome(service=s,options=options)\n",
    "# driver.get(\"https://www.knyguklubas.lt/vasaros-romanas\")\n",
    "# timeout = 5\n",
    "\n",
    "# try:\n",
    "#     element_present = EC.presence_of_element_located((By.CLASS_NAME, 'base'))\n",
    "#     WebDriverWait(driver, timeout).until(element_present)\n",
    "#     print(\"OK\")\n",
    "# except TimeoutException:\n",
    "#     print(\"Timed out waiting for page to load\")\n",
    "\n",
    "# content = BeautifulSoup(driver.page_source)\n",
    "# print(content)\n",
    "# driver.quit()"
   ]
  },
  {
   "cell_type": "code",
   "execution_count": null,
   "metadata": {},
   "outputs": [],
   "source": [
    "import requests\n",
    "from typing import List, Dict, Optional\n",
    "import pandas as pd\n",
    "\n",
    "from bs4 import BeautifulSoup\n",
    "\n",
    "from selenium import webdriver\n",
    "from selenium.common.exceptions import TimeoutException\n",
    "from selenium.webdriver.support.ui import WebDriverWait\n",
    "from selenium.webdriver.support import expected_conditions as EC\n",
    "from selenium.webdriver.common.by import By\n",
    "from selenium.webdriver.common.keys import Keys\n",
    "from selenium.webdriver.chrome.options import Options\n",
    "from selenium.webdriver.chrome.service import Service\n",
    "\n",
    "options = Options()\n",
    "options.headless = True\n",
    "options.add_argument(\"--window-size=1920,1200\")\n",
    "\n",
    "s=Service('D:/Downloads/chromedriver.exe')\n",
    "driver = webdriver.Chrome(service=s,options=options)\n",
    "\n",
    "def get_knygos_info(url: str) -> Dict:\n",
    "\n",
    "    url = '\"' + url + '\"'\n",
    "    driver.get(url)\n",
    "    content = BeautifulSoup(driver.page_source)\n",
    "    driver.quit()\n",
    "\n",
    "    book_title = content.find(\"h1\", class_=\"page-title\").find(\"span\", class_=\"base\").text\n",
    "    author = content.find(\"div\", class_=\"product-info-main\").find(\"p\", class_=\"product-item-author\").text\n",
    "    main_image = content.find(\"img\", class_=\"gallery-placeholder__image\").get(\"src\")\n",
    "    about = content.find(\"div\", class_=\"product-description\").find(\"p\").text\n",
    "    price = content.find(\"div\", class_=\"price-box price-final_price\").find(\"span\", class_=\"price\").text\n",
    "\n",
    "    additional_info = content.find(\"div\", class_=\"product-more-details\").find(\"p\").text\n",
    "    keyword = 'Puslapių skaičius:'\n",
    "    before_keyword, keyword, after_keyword = additional_info.partition(keyword)\n",
    "    pages = int(after_keyword.split(',')[0])\n",
    "\n",
    "    return {\n",
    "        \"title\": book_title,\n",
    "        \"image_url\": main_image,\n",
    "        \"author\": author,\n",
    "        \"about\": about,\n",
    "        \"price\": price,\n",
    "        \"pages\": pages\n",
    "    }\n"
   ]
  },
  {
   "cell_type": "code",
   "execution_count": 15,
   "metadata": {},
   "outputs": [],
   "source": [
    "import requests\n",
    "from typing import List, Dict, Optional\n",
    "import pandas as pd\n",
    "\n",
    "from bs4 import BeautifulSoup\n",
    "\n",
    "from selenium import webdriver\n",
    "from selenium.common.exceptions import TimeoutException\n",
    "from selenium.webdriver.support.ui import WebDriverWait\n",
    "from selenium.webdriver.support import expected_conditions as EC\n",
    "from selenium.webdriver.common.by import By\n",
    "from selenium.webdriver.common.keys import Keys\n",
    "from selenium.webdriver.chrome.options import Options\n",
    "from selenium.webdriver.chrome.service import Service\n",
    "\n",
    "options = Options()\n",
    "options.headless = True\n",
    "options.add_argument(\"--window-size=1920,1200\")\n",
    "\n",
    "s=Service('D:/Downloads/chromedriver.exe')\n",
    "driver = webdriver.Chrome(service=s,options=options)\n",
    "driver.get(\"https://www.knyguklubas.lt/vasaros-romanas\")\n",
    "# timeout = 5\n",
    "\n",
    "# try:\n",
    "#     element_present = EC.presence_of_element_located((By.CLASS_NAME, 'base'))\n",
    "#     WebDriverWait(driver, timeout).until(element_present)\n",
    "#     print(\"OK\")\n",
    "# except TimeoutException:\n",
    "#     print(\"Timed out waiting for page to load\")\n",
    "\n",
    "content = BeautifulSoup(driver.page_source)\n",
    "# print(content)\n",
    "driver.quit()"
   ]
  },
  {
   "cell_type": "code",
   "execution_count": 18,
   "metadata": {},
   "outputs": [
    {
     "name": "stdout",
     "output_type": "stream",
     "text": [
      "384\n",
      "<class 'int'>\n"
     ]
    }
   ],
   "source": [
    "additional_info = content.find(\"div\", class_=\"product-more-details\").find(\"p\").text\n",
    "keyword = 'Puslapių skaičius:'\n",
    "before_keyword, keyword, after_keyword = additional_info.partition(keyword)\n",
    "pages = int(after_keyword.split(',')[0])\n",
    "\n",
    "print(pages)\n",
    "print(type(pages))"
   ]
  }
 ],
 "metadata": {
  "kernelspec": {
   "display_name": "Python 3.9.13 ('.venv': poetry)",
   "language": "python",
   "name": "python3"
  },
  "language_info": {
   "codemirror_mode": {
    "name": "ipython",
    "version": 3
   },
   "file_extension": ".py",
   "mimetype": "text/x-python",
   "name": "python",
   "nbconvert_exporter": "python",
   "pygments_lexer": "ipython3",
   "version": "3.9.13"
  },
  "orig_nbformat": 4,
  "vscode": {
   "interpreter": {
    "hash": "a75f1863472d277b666b8737d3a22af79ca082befa9a6c4e6d706e5c0ac99197"
   }
  }
 },
 "nbformat": 4,
 "nbformat_minor": 2
}
